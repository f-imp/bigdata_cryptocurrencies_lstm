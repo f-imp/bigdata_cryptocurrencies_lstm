{
 "cells": [
  {
   "cell_type": "code",
   "execution_count": 1,
   "metadata": {},
   "outputs": [],
   "source": [
    "import pandas as pd\n",
    "import numpy as np\n",
    "import plotly.plotly as py\n",
    "import plotly.graph_objs as go"
   ]
  },
  {
   "cell_type": "code",
   "execution_count": 2,
   "metadata": {},
   "outputs": [
    {
     "data": {
      "text/html": [
       "<div>\n",
       "<style scoped>\n",
       "    .dataframe tbody tr th:only-of-type {\n",
       "        vertical-align: middle;\n",
       "    }\n",
       "\n",
       "    .dataframe tbody tr th {\n",
       "        vertical-align: top;\n",
       "    }\n",
       "\n",
       "    .dataframe thead th {\n",
       "        text-align: right;\n",
       "    }\n",
       "</style>\n",
       "<table border=\"1\" class=\"dataframe\">\n",
       "  <thead>\n",
       "    <tr style=\"text-align: right;\">\n",
       "      <th></th>\n",
       "      <th>model</th>\n",
       "      <th>mean_rmse_norm</th>\n",
       "      <th>mean_rmse_denorm</th>\n",
       "    </tr>\n",
       "  </thead>\n",
       "  <tbody>\n",
       "    <tr>\n",
       "      <th>0</th>\n",
       "      <td>ts30_lstm_neurons128</td>\n",
       "      <td>0.014560</td>\n",
       "      <td>2547.315926</td>\n",
       "    </tr>\n",
       "    <tr>\n",
       "      <th>1</th>\n",
       "      <td>ts30_lstm_neurons256</td>\n",
       "      <td>0.016552</td>\n",
       "      <td>2895.753745</td>\n",
       "    </tr>\n",
       "    <tr>\n",
       "      <th>2</th>\n",
       "      <td>ts100_lstm_neurons128</td>\n",
       "      <td>0.015206</td>\n",
       "      <td>2660.244635</td>\n",
       "    </tr>\n",
       "    <tr>\n",
       "      <th>3</th>\n",
       "      <td>ts100_lstm_neurons256</td>\n",
       "      <td>0.016225</td>\n",
       "      <td>2838.559309</td>\n",
       "    </tr>\n",
       "    <tr>\n",
       "      <th>4</th>\n",
       "      <td>ts200_lstm_neurons128</td>\n",
       "      <td>0.014193</td>\n",
       "      <td>2483.130486</td>\n",
       "    </tr>\n",
       "    <tr>\n",
       "      <th>5</th>\n",
       "      <td>ts200_lstm_neurons256</td>\n",
       "      <td>0.013340</td>\n",
       "      <td>2333.758577</td>\n",
       "    </tr>\n",
       "  </tbody>\n",
       "</table>\n",
       "</div>"
      ],
      "text/plain": [
       "                   model  mean_rmse_norm  mean_rmse_denorm\n",
       "0   ts30_lstm_neurons128        0.014560       2547.315926\n",
       "1   ts30_lstm_neurons256        0.016552       2895.753745\n",
       "2  ts100_lstm_neurons128        0.015206       2660.244635\n",
       "3  ts100_lstm_neurons256        0.016225       2838.559309\n",
       "4  ts200_lstm_neurons128        0.014193       2483.130486\n",
       "5  ts200_lstm_neurons256        0.013340       2333.758577"
      ]
     },
     "execution_count": 2,
     "metadata": {},
     "output_type": "execute_result"
    }
   ],
   "source": [
    "data = pd.read_csv('final-result.csv', index_col=0)\n",
    "data = data[data.columns[[2,1,0]]]\n",
    "data"
   ]
  },
  {
   "cell_type": "code",
   "execution_count": 8,
   "metadata": {},
   "outputs": [
    {
     "data": {
      "text/html": [
       "<iframe id=\"igraph\" scrolling=\"no\" style=\"border:none;\" seamless=\"seamless\" src=\"https://plot.ly/~exrezzo/2.embed\" height=\"525px\" width=\"100%\"></iframe>"
      ],
      "text/plain": [
       "<plotly.tools.PlotlyDisplay object>"
      ]
     },
     "execution_count": 8,
     "metadata": {},
     "output_type": "execute_result"
    }
   ],
   "source": [
    "graph = [go.Bar(\n",
    "    x=data['model'],\n",
    "    y=data['mean_rmse_norm'],\n",
    "    text=data['mean_rmse_norm'],\n",
    "    textposition = 'outside', \n",
    "    marker= dict(color= 'orange')\n",
    ")]\n",
    "layout = go.Layout(\n",
    "    title='Media RMSE normalizzato per modello',\n",
    "    yaxis=dict(title='Media RMSE'),\n",
    "    xaxis=dict(title='Configurazione modello')\n",
    ")\n",
    "fig = go.Figure(data=graph, layout=layout)\n",
    "py.iplot(fig, filename='bars-s2-errors')"
   ]
  },
  {
   "cell_type": "markdown",
   "metadata": {},
   "source": [
    "Osservando le medie degli RMSE per ciascun modello si nota come considerando il dataset che utilizza i dati dei 4 stock insieme si ottenga un RMSE medio inferiore, ma diversamente al setting S1 si ottiene un miglior risultato con un modello più complesso, con un lookback di 200 giorni ed un numero di 256 neuroni nello strato hidden. Poichè dunque nel testing nonostante siano selezionate 30 date comunque sono presenti i dati di 4 stock, dunque per ogni data sono presenti 4 output che quando vengono denormalizzati mostrano risultati ben peggiori rispetto al setting S1 ma solo perché il range di punteggio di alcuni stock come MPT è completamente diverso rispetto agli altri, dunque risulta più informativo guardare agli RMSE normalizzati."
   ]
  },
  {
   "cell_type": "code",
   "execution_count": null,
   "metadata": {},
   "outputs": [],
   "source": []
  }
 ],
 "metadata": {
  "kernelspec": {
   "display_name": "Python 3",
   "language": "python",
   "name": "python3"
  },
  "language_info": {
   "codemirror_mode": {
    "name": "ipython",
    "version": 3
   },
   "file_extension": ".py",
   "mimetype": "text/x-python",
   "name": "python",
   "nbconvert_exporter": "python",
   "pygments_lexer": "ipython3",
   "version": "3.6.4"
  }
 },
 "nbformat": 4,
 "nbformat_minor": 2
}
