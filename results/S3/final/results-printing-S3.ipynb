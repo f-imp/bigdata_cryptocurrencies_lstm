{
 "cells": [
  {
   "cell_type": "code",
   "execution_count": 1,
   "metadata": {},
   "outputs": [],
   "source": [
    "import pandas as pd\n",
    "import numpy as np\n",
    "import plotly.plotly as py\n",
    "import plotly.graph_objs as go"
   ]
  },
  {
   "cell_type": "code",
   "execution_count": 2,
   "metadata": {},
   "outputs": [
    {
     "data": {
      "text/html": [
       "<div>\n",
       "<style scoped>\n",
       "    .dataframe tbody tr th:only-of-type {\n",
       "        vertical-align: middle;\n",
       "    }\n",
       "\n",
       "    .dataframe tbody tr th {\n",
       "        vertical-align: top;\n",
       "    }\n",
       "\n",
       "    .dataframe thead th {\n",
       "        text-align: right;\n",
       "    }\n",
       "</style>\n",
       "<table border=\"1\" class=\"dataframe\">\n",
       "  <thead>\n",
       "    <tr style=\"text-align: right;\">\n",
       "      <th></th>\n",
       "      <th>model</th>\n",
       "      <th>mean_rmse_norm</th>\n",
       "      <th>mean_rmse_denorm</th>\n",
       "    </tr>\n",
       "  </thead>\n",
       "  <tbody>\n",
       "    <tr>\n",
       "      <th>0</th>\n",
       "      <td>ts30_lstm_neurons128</td>\n",
       "      <td>0.040926</td>\n",
       "      <td>2484.852088</td>\n",
       "    </tr>\n",
       "    <tr>\n",
       "      <th>1</th>\n",
       "      <td>ts30_lstm_neurons256</td>\n",
       "      <td>0.036260</td>\n",
       "      <td>2130.635716</td>\n",
       "    </tr>\n",
       "    <tr>\n",
       "      <th>2</th>\n",
       "      <td>ts100_lstm_neurons128</td>\n",
       "      <td>0.035433</td>\n",
       "      <td>1912.367496</td>\n",
       "    </tr>\n",
       "    <tr>\n",
       "      <th>3</th>\n",
       "      <td>ts100_lstm_neurons256</td>\n",
       "      <td>0.028483</td>\n",
       "      <td>1647.385978</td>\n",
       "    </tr>\n",
       "    <tr>\n",
       "      <th>4</th>\n",
       "      <td>ts200_lstm_neurons128</td>\n",
       "      <td>0.037912</td>\n",
       "      <td>2450.697111</td>\n",
       "    </tr>\n",
       "    <tr>\n",
       "      <th>5</th>\n",
       "      <td>ts200_lstm_neurons256</td>\n",
       "      <td>0.039303</td>\n",
       "      <td>2535.405199</td>\n",
       "    </tr>\n",
       "  </tbody>\n",
       "</table>\n",
       "</div>"
      ],
      "text/plain": [
       "                   model  mean_rmse_norm  mean_rmse_denorm\n",
       "0   ts30_lstm_neurons128        0.040926       2484.852088\n",
       "1   ts30_lstm_neurons256        0.036260       2130.635716\n",
       "2  ts100_lstm_neurons128        0.035433       1912.367496\n",
       "3  ts100_lstm_neurons256        0.028483       1647.385978\n",
       "4  ts200_lstm_neurons128        0.037912       2450.697111\n",
       "5  ts200_lstm_neurons256        0.039303       2535.405199"
      ]
     },
     "execution_count": 2,
     "metadata": {},
     "output_type": "execute_result"
    }
   ],
   "source": [
    "data = pd.read_csv('final-result.csv', index_col=0)\n",
    "data = data[data.columns[[2,1,0]]]\n",
    "data"
   ]
  },
  {
   "cell_type": "code",
   "execution_count": 3,
   "metadata": {},
   "outputs": [
    {
     "data": {
      "text/html": [
       "<iframe id=\"igraph\" scrolling=\"no\" style=\"border:none;\" seamless=\"seamless\" src=\"https://plot.ly/~exrezzo/2.embed\" height=\"525px\" width=\"100%\"></iframe>"
      ],
      "text/plain": [
       "<plotly.tools.PlotlyDisplay object>"
      ]
     },
     "execution_count": 3,
     "metadata": {},
     "output_type": "execute_result"
    }
   ],
   "source": [
    "graph = [go.Bar(\n",
    "    x=data['model'],\n",
    "    y=data['mean_rmse_norm'],\n",
    "    text=data['mean_rmse_norm'],\n",
    "    textposition = 'outside', \n",
    "    marker= dict(color= 'green')\n",
    ")]\n",
    "layout = go.Layout(\n",
    "    title='Media RMSE normalizzato per modello - Setting S3',\n",
    "    yaxis=dict(title='Media RMSE'),\n",
    "    xaxis=dict(title='Configurazione modello')\n",
    ")\n",
    "fig = go.Figure(data=graph, layout=layout)\n",
    "py.iplot(fig, filename='bars-s2-errors')"
   ]
  },
  {
   "cell_type": "markdown",
   "metadata": {},
   "source": [
    "La configurazione S3 allenata sul formato \"orizzontale\" del dataset mostra degli score RMSE in media superiori rispetto alle altre due configurazioni, sempre però considerando che in questo caso l'output della rete neurale è il closing price dei 4 stock, con l'intento di predire per il giorno successivo, data una sequenza di giorni, 4 closing price diversi. Anche qui dà risultati migliori una rete più complessa con uno strato hidden più fitto, poiché tale modello tiene in considerazione ben 57 feature differenti."
   ]
  },
  {
   "cell_type": "code",
   "execution_count": null,
   "metadata": {},
   "outputs": [],
   "source": []
  }
 ],
 "metadata": {
  "kernelspec": {
   "display_name": "Python 3",
   "language": "python",
   "name": "python3"
  },
  "language_info": {
   "codemirror_mode": {
    "name": "ipython",
    "version": 3
   },
   "file_extension": ".py",
   "mimetype": "text/x-python",
   "name": "python",
   "nbconvert_exporter": "python",
   "pygments_lexer": "ipython3",
   "version": "3.6.4"
  }
 },
 "nbformat": 4,
 "nbformat_minor": 2
}
